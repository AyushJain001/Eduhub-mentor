{
 "cells": [
  {
   "cell_type": "code",
   "execution_count": 25,
   "id": "4e6e4877",
   "metadata": {},
   "outputs": [],
   "source": [
    "import pandas as pd"
   ]
  },
  {
   "cell_type": "code",
   "execution_count": 26,
   "id": "9af5a8a6",
   "metadata": {
    "execution": {
     "iopub.execute_input": "2022-12-28T12:17:23.149978Z",
     "iopub.status.busy": "2022-12-28T12:17:23.149474Z",
     "iopub.status.idle": "2022-12-28T12:17:23.173465Z",
     "shell.execute_reply": "2022-12-28T12:17:23.172285Z"
    },
    "papermill": {
     "duration": 0.038348,
     "end_time": "2022-12-28T12:17:23.176834",
     "exception": false,
     "start_time": "2022-12-28T12:17:23.138486",
     "status": "completed"
    },
    "tags": []
   },
   "outputs": [],
   "source": [
    "data=pd.read_csv(\"C://Users//Ayush Jain//OneDrive//logistic//Logistic-regression_final//diabetes.csv\")"
   ]
  },
  {
   "cell_type": "code",
   "execution_count": 27,
   "id": "92ffbdc3",
   "metadata": {
    "execution": {
     "iopub.execute_input": "2022-12-28T12:17:23.196423Z",
     "iopub.status.busy": "2022-12-28T12:17:23.195848Z",
     "iopub.status.idle": "2022-12-28T12:17:23.231916Z",
     "shell.execute_reply": "2022-12-28T12:17:23.230541Z"
    },
    "papermill": {
     "duration": 0.049309,
     "end_time": "2022-12-28T12:17:23.234739",
     "exception": false,
     "start_time": "2022-12-28T12:17:23.185430",
     "status": "completed"
    },
    "tags": []
   },
   "outputs": [
    {
     "data": {
      "text/html": [
       "<div>\n",
       "<style scoped>\n",
       "    .dataframe tbody tr th:only-of-type {\n",
       "        vertical-align: middle;\n",
       "    }\n",
       "\n",
       "    .dataframe tbody tr th {\n",
       "        vertical-align: top;\n",
       "    }\n",
       "\n",
       "    .dataframe thead th {\n",
       "        text-align: right;\n",
       "    }\n",
       "</style>\n",
       "<table border=\"1\" class=\"dataframe\">\n",
       "  <thead>\n",
       "    <tr style=\"text-align: right;\">\n",
       "      <th></th>\n",
       "      <th>Pregnancies</th>\n",
       "      <th>Glucose</th>\n",
       "      <th>BloodPressure</th>\n",
       "      <th>SkinThickness</th>\n",
       "      <th>Insulin</th>\n",
       "      <th>BMI</th>\n",
       "      <th>DiabetesPedigreeFunction</th>\n",
       "      <th>Age</th>\n",
       "      <th>Outcome</th>\n",
       "    </tr>\n",
       "  </thead>\n",
       "  <tbody>\n",
       "    <tr>\n",
       "      <th>0</th>\n",
       "      <td>6</td>\n",
       "      <td>148</td>\n",
       "      <td>72</td>\n",
       "      <td>35</td>\n",
       "      <td>0</td>\n",
       "      <td>33.6</td>\n",
       "      <td>0.627</td>\n",
       "      <td>50</td>\n",
       "      <td>1</td>\n",
       "    </tr>\n",
       "    <tr>\n",
       "      <th>1</th>\n",
       "      <td>1</td>\n",
       "      <td>85</td>\n",
       "      <td>66</td>\n",
       "      <td>29</td>\n",
       "      <td>0</td>\n",
       "      <td>26.6</td>\n",
       "      <td>0.351</td>\n",
       "      <td>31</td>\n",
       "      <td>0</td>\n",
       "    </tr>\n",
       "    <tr>\n",
       "      <th>2</th>\n",
       "      <td>8</td>\n",
       "      <td>183</td>\n",
       "      <td>64</td>\n",
       "      <td>0</td>\n",
       "      <td>0</td>\n",
       "      <td>23.3</td>\n",
       "      <td>0.672</td>\n",
       "      <td>32</td>\n",
       "      <td>1</td>\n",
       "    </tr>\n",
       "    <tr>\n",
       "      <th>3</th>\n",
       "      <td>1</td>\n",
       "      <td>89</td>\n",
       "      <td>66</td>\n",
       "      <td>23</td>\n",
       "      <td>94</td>\n",
       "      <td>28.1</td>\n",
       "      <td>0.167</td>\n",
       "      <td>21</td>\n",
       "      <td>0</td>\n",
       "    </tr>\n",
       "    <tr>\n",
       "      <th>4</th>\n",
       "      <td>0</td>\n",
       "      <td>137</td>\n",
       "      <td>40</td>\n",
       "      <td>35</td>\n",
       "      <td>168</td>\n",
       "      <td>43.1</td>\n",
       "      <td>2.288</td>\n",
       "      <td>33</td>\n",
       "      <td>1</td>\n",
       "    </tr>\n",
       "    <tr>\n",
       "      <th>5</th>\n",
       "      <td>5</td>\n",
       "      <td>116</td>\n",
       "      <td>74</td>\n",
       "      <td>0</td>\n",
       "      <td>0</td>\n",
       "      <td>25.6</td>\n",
       "      <td>0.201</td>\n",
       "      <td>30</td>\n",
       "      <td>0</td>\n",
       "    </tr>\n",
       "    <tr>\n",
       "      <th>6</th>\n",
       "      <td>3</td>\n",
       "      <td>78</td>\n",
       "      <td>50</td>\n",
       "      <td>32</td>\n",
       "      <td>88</td>\n",
       "      <td>31.0</td>\n",
       "      <td>0.248</td>\n",
       "      <td>26</td>\n",
       "      <td>1</td>\n",
       "    </tr>\n",
       "    <tr>\n",
       "      <th>7</th>\n",
       "      <td>10</td>\n",
       "      <td>115</td>\n",
       "      <td>0</td>\n",
       "      <td>0</td>\n",
       "      <td>0</td>\n",
       "      <td>35.3</td>\n",
       "      <td>0.134</td>\n",
       "      <td>29</td>\n",
       "      <td>0</td>\n",
       "    </tr>\n",
       "    <tr>\n",
       "      <th>8</th>\n",
       "      <td>2</td>\n",
       "      <td>197</td>\n",
       "      <td>70</td>\n",
       "      <td>45</td>\n",
       "      <td>543</td>\n",
       "      <td>30.5</td>\n",
       "      <td>0.158</td>\n",
       "      <td>53</td>\n",
       "      <td>1</td>\n",
       "    </tr>\n",
       "    <tr>\n",
       "      <th>9</th>\n",
       "      <td>8</td>\n",
       "      <td>125</td>\n",
       "      <td>96</td>\n",
       "      <td>0</td>\n",
       "      <td>0</td>\n",
       "      <td>0.0</td>\n",
       "      <td>0.232</td>\n",
       "      <td>54</td>\n",
       "      <td>1</td>\n",
       "    </tr>\n",
       "  </tbody>\n",
       "</table>\n",
       "</div>"
      ],
      "text/plain": [
       "   Pregnancies  Glucose  BloodPressure  SkinThickness  Insulin   BMI  \\\n",
       "0            6      148             72             35        0  33.6   \n",
       "1            1       85             66             29        0  26.6   \n",
       "2            8      183             64              0        0  23.3   \n",
       "3            1       89             66             23       94  28.1   \n",
       "4            0      137             40             35      168  43.1   \n",
       "5            5      116             74              0        0  25.6   \n",
       "6            3       78             50             32       88  31.0   \n",
       "7           10      115              0              0        0  35.3   \n",
       "8            2      197             70             45      543  30.5   \n",
       "9            8      125             96              0        0   0.0   \n",
       "\n",
       "   DiabetesPedigreeFunction  Age  Outcome  \n",
       "0                     0.627   50        1  \n",
       "1                     0.351   31        0  \n",
       "2                     0.672   32        1  \n",
       "3                     0.167   21        0  \n",
       "4                     2.288   33        1  \n",
       "5                     0.201   30        0  \n",
       "6                     0.248   26        1  \n",
       "7                     0.134   29        0  \n",
       "8                     0.158   53        1  \n",
       "9                     0.232   54        1  "
      ]
     },
     "execution_count": 27,
     "metadata": {},
     "output_type": "execute_result"
    }
   ],
   "source": [
    "data.head(10)"
   ]
  },
  {
   "cell_type": "markdown",
   "id": "25df3e64",
   "metadata": {
    "papermill": {
     "duration": 0.008336,
     "end_time": "2022-12-28T12:17:23.251943",
     "exception": false,
     "start_time": "2022-12-28T12:17:23.243607",
     "status": "completed"
    },
    "tags": []
   },
   "source": [
    "checking the shape of the dataset to understand the features"
   ]
  },
  {
   "cell_type": "code",
   "execution_count": 28,
   "id": "329bc936",
   "metadata": {
    "execution": {
     "iopub.execute_input": "2022-12-28T12:17:23.274022Z",
     "iopub.status.busy": "2022-12-28T12:17:23.273503Z",
     "iopub.status.idle": "2022-12-28T12:17:23.281899Z",
     "shell.execute_reply": "2022-12-28T12:17:23.280556Z"
    },
    "papermill": {
     "duration": 0.021735,
     "end_time": "2022-12-28T12:17:23.284372",
     "exception": false,
     "start_time": "2022-12-28T12:17:23.262637",
     "status": "completed"
    },
    "tags": []
   },
   "outputs": [
    {
     "data": {
      "text/plain": [
       "(768, 9)"
      ]
     },
     "execution_count": 28,
     "metadata": {},
     "output_type": "execute_result"
    }
   ],
   "source": [
    "data.shape"
   ]
  },
  {
   "cell_type": "code",
   "execution_count": 7,
   "id": "22ab6fd5",
   "metadata": {
    "execution": {
     "iopub.execute_input": "2022-12-28T12:17:23.305411Z",
     "iopub.status.busy": "2022-12-28T12:17:23.304088Z",
     "iopub.status.idle": "2022-12-28T12:17:23.321283Z",
     "shell.execute_reply": "2022-12-28T12:17:23.319836Z"
    },
    "papermill": {
     "duration": 0.030379,
     "end_time": "2022-12-28T12:17:23.324001",
     "exception": false,
     "start_time": "2022-12-28T12:17:23.293622",
     "status": "completed"
    },
    "tags": []
   },
   "outputs": [
    {
     "data": {
      "text/plain": [
       "0    500\n",
       "1    268\n",
       "Name: Outcome, dtype: int64"
      ]
     },
     "execution_count": 7,
     "metadata": {},
     "output_type": "execute_result"
    }
   ],
   "source": [
    "data['Outcome'].value_counts()"
   ]
  },
  {
   "cell_type": "code",
   "execution_count": 8,
   "id": "e67058b6",
   "metadata": {
    "execution": {
     "iopub.execute_input": "2022-12-28T12:17:23.344749Z",
     "iopub.status.busy": "2022-12-28T12:17:23.343915Z",
     "iopub.status.idle": "2022-12-28T12:17:23.354762Z",
     "shell.execute_reply": "2022-12-28T12:17:23.353477Z"
    },
    "papermill": {
     "duration": 0.024155,
     "end_time": "2022-12-28T12:17:23.357200",
     "exception": false,
     "start_time": "2022-12-28T12:17:23.333045",
     "status": "completed"
    },
    "tags": []
   },
   "outputs": [
    {
     "data": {
      "text/plain": [
       "0    65.104167\n",
       "1    34.895833\n",
       "Name: Outcome, dtype: float64"
      ]
     },
     "execution_count": 8,
     "metadata": {},
     "output_type": "execute_result"
    }
   ],
   "source": [
    "data['Outcome'].value_counts(normalize=True).apply(lambda x:x*100)"
   ]
  },
  {
   "cell_type": "markdown",
   "id": "cef837ec",
   "metadata": {
    "papermill": {
     "duration": 0.008751,
     "end_time": "2022-12-28T12:17:23.374877",
     "exception": false,
     "start_time": "2022-12-28T12:17:23.366126",
     "status": "completed"
    },
    "tags": []
   },
   "source": [
    "X here is our input dataset with input features needed for classification using SVM"
   ]
  },
  {
   "cell_type": "code",
   "execution_count": 9,
   "id": "c232c99f",
   "metadata": {
    "execution": {
     "iopub.execute_input": "2022-12-28T12:17:23.396812Z",
     "iopub.status.busy": "2022-12-28T12:17:23.395993Z",
     "iopub.status.idle": "2022-12-28T12:17:23.403809Z",
     "shell.execute_reply": "2022-12-28T12:17:23.402632Z"
    },
    "papermill": {
     "duration": 0.022045,
     "end_time": "2022-12-28T12:17:23.406179",
     "exception": false,
     "start_time": "2022-12-28T12:17:23.384134",
     "status": "completed"
    },
    "tags": []
   },
   "outputs": [
    {
     "data": {
      "text/plain": [
       "(768,)"
      ]
     },
     "execution_count": 9,
     "metadata": {},
     "output_type": "execute_result"
    }
   ],
   "source": [
    "y=data['Outcome']\n",
    "y.shape"
   ]
  },
  {
   "cell_type": "code",
   "execution_count": 10,
   "id": "8bd49943",
   "metadata": {
    "execution": {
     "iopub.execute_input": "2022-12-28T12:17:23.428470Z",
     "iopub.status.busy": "2022-12-28T12:17:23.427639Z",
     "iopub.status.idle": "2022-12-28T12:17:23.440832Z",
     "shell.execute_reply": "2022-12-28T12:17:23.439596Z"
    },
    "papermill": {
     "duration": 0.028234,
     "end_time": "2022-12-28T12:17:23.443798",
     "exception": false,
     "start_time": "2022-12-28T12:17:23.415564",
     "status": "completed"
    },
    "tags": []
   },
   "outputs": [
    {
     "data": {
      "text/plain": [
       "(768, 8)"
      ]
     },
     "execution_count": 10,
     "metadata": {},
     "output_type": "execute_result"
    }
   ],
   "source": [
    "X=data.copy()\n",
    "X.pop('Outcome')\n",
    "X.shape"
   ]
  },
  {
   "cell_type": "markdown",
   "id": "210ff59f",
   "metadata": {
    "papermill": {
     "duration": 0.010514,
     "end_time": "2022-12-28T12:17:23.464094",
     "exception": false,
     "start_time": "2022-12-28T12:17:23.453580",
     "status": "completed"
    },
    "tags": []
   },
   "source": [
    "X and y have now been created as the input and output datasets respectively of the diabetes classification"
   ]
  },
  {
   "cell_type": "code",
   "execution_count": 11,
   "id": "d64f7713",
   "metadata": {
    "execution": {
     "iopub.execute_input": "2022-12-28T12:17:23.485451Z",
     "iopub.status.busy": "2022-12-28T12:17:23.484682Z",
     "iopub.status.idle": "2022-12-28T12:17:23.499587Z",
     "shell.execute_reply": "2022-12-28T12:17:23.498201Z"
    },
    "papermill": {
     "duration": 0.029119,
     "end_time": "2022-12-28T12:17:23.502615",
     "exception": false,
     "start_time": "2022-12-28T12:17:23.473496",
     "status": "completed"
    },
    "tags": []
   },
   "outputs": [
    {
     "data": {
      "text/html": [
       "<div>\n",
       "<style scoped>\n",
       "    .dataframe tbody tr th:only-of-type {\n",
       "        vertical-align: middle;\n",
       "    }\n",
       "\n",
       "    .dataframe tbody tr th {\n",
       "        vertical-align: top;\n",
       "    }\n",
       "\n",
       "    .dataframe thead th {\n",
       "        text-align: right;\n",
       "    }\n",
       "</style>\n",
       "<table border=\"1\" class=\"dataframe\">\n",
       "  <thead>\n",
       "    <tr style=\"text-align: right;\">\n",
       "      <th></th>\n",
       "      <th>Pregnancies</th>\n",
       "      <th>Glucose</th>\n",
       "      <th>BloodPressure</th>\n",
       "      <th>SkinThickness</th>\n",
       "      <th>Insulin</th>\n",
       "      <th>BMI</th>\n",
       "      <th>DiabetesPedigreeFunction</th>\n",
       "      <th>Age</th>\n",
       "    </tr>\n",
       "  </thead>\n",
       "  <tbody>\n",
       "    <tr>\n",
       "      <th>0</th>\n",
       "      <td>6</td>\n",
       "      <td>148</td>\n",
       "      <td>72</td>\n",
       "      <td>35</td>\n",
       "      <td>0</td>\n",
       "      <td>33.6</td>\n",
       "      <td>0.627</td>\n",
       "      <td>50</td>\n",
       "    </tr>\n",
       "    <tr>\n",
       "      <th>1</th>\n",
       "      <td>1</td>\n",
       "      <td>85</td>\n",
       "      <td>66</td>\n",
       "      <td>29</td>\n",
       "      <td>0</td>\n",
       "      <td>26.6</td>\n",
       "      <td>0.351</td>\n",
       "      <td>31</td>\n",
       "    </tr>\n",
       "    <tr>\n",
       "      <th>2</th>\n",
       "      <td>8</td>\n",
       "      <td>183</td>\n",
       "      <td>64</td>\n",
       "      <td>0</td>\n",
       "      <td>0</td>\n",
       "      <td>23.3</td>\n",
       "      <td>0.672</td>\n",
       "      <td>32</td>\n",
       "    </tr>\n",
       "    <tr>\n",
       "      <th>3</th>\n",
       "      <td>1</td>\n",
       "      <td>89</td>\n",
       "      <td>66</td>\n",
       "      <td>23</td>\n",
       "      <td>94</td>\n",
       "      <td>28.1</td>\n",
       "      <td>0.167</td>\n",
       "      <td>21</td>\n",
       "    </tr>\n",
       "    <tr>\n",
       "      <th>4</th>\n",
       "      <td>0</td>\n",
       "      <td>137</td>\n",
       "      <td>40</td>\n",
       "      <td>35</td>\n",
       "      <td>168</td>\n",
       "      <td>43.1</td>\n",
       "      <td>2.288</td>\n",
       "      <td>33</td>\n",
       "    </tr>\n",
       "  </tbody>\n",
       "</table>\n",
       "</div>"
      ],
      "text/plain": [
       "   Pregnancies  Glucose  BloodPressure  SkinThickness  Insulin   BMI  \\\n",
       "0            6      148             72             35        0  33.6   \n",
       "1            1       85             66             29        0  26.6   \n",
       "2            8      183             64              0        0  23.3   \n",
       "3            1       89             66             23       94  28.1   \n",
       "4            0      137             40             35      168  43.1   \n",
       "\n",
       "   DiabetesPedigreeFunction  Age  \n",
       "0                     0.627   50  \n",
       "1                     0.351   31  \n",
       "2                     0.672   32  \n",
       "3                     0.167   21  \n",
       "4                     2.288   33  "
      ]
     },
     "execution_count": 11,
     "metadata": {},
     "output_type": "execute_result"
    }
   ],
   "source": [
    "X.head()"
   ]
  },
  {
   "cell_type": "markdown",
   "id": "64eaf41d",
   "metadata": {
    "papermill": {
     "duration": 0.009192,
     "end_time": "2022-12-28T12:17:23.521947",
     "exception": false,
     "start_time": "2022-12-28T12:17:23.512755",
     "status": "completed"
    },
    "tags": []
   },
   "source": [
    "**checking the shape of the input and output datasets**"
   ]
  },
  {
   "cell_type": "code",
   "execution_count": 12,
   "id": "b0342781",
   "metadata": {
    "execution": {
     "iopub.execute_input": "2022-12-28T12:17:23.543549Z",
     "iopub.status.busy": "2022-12-28T12:17:23.542974Z",
     "iopub.status.idle": "2022-12-28T12:17:23.552095Z",
     "shell.execute_reply": "2022-12-28T12:17:23.550771Z"
    },
    "papermill": {
     "duration": 0.022906,
     "end_time": "2022-12-28T12:17:23.554695",
     "exception": false,
     "start_time": "2022-12-28T12:17:23.531789",
     "status": "completed"
    },
    "tags": []
   },
   "outputs": [
    {
     "data": {
      "text/plain": [
       "((768, 8), (768,))"
      ]
     },
     "execution_count": 12,
     "metadata": {},
     "output_type": "execute_result"
    }
   ],
   "source": [
    "X.shape,y.shape"
   ]
  },
  {
   "cell_type": "markdown",
   "id": "099c4486",
   "metadata": {
    "papermill": {
     "duration": 0.008985,
     "end_time": "2022-12-28T12:17:23.573174",
     "exception": false,
     "start_time": "2022-12-28T12:17:23.564189",
     "status": "completed"
    },
    "tags": []
   },
   "source": [
    "There are 8 features that have been defined as input features and the corresponding labels of 768 records are defined as output features. \n",
    "\n",
    "Next, we will create the training and test patterns by keeping the 20% of data for testing purposes."
   ]
  },
  {
   "cell_type": "code",
   "execution_count": 13,
   "id": "ddc4d32d",
   "metadata": {
    "execution": {
     "iopub.execute_input": "2022-12-28T12:17:23.594665Z",
     "iopub.status.busy": "2022-12-28T12:17:23.593573Z",
     "iopub.status.idle": "2022-12-28T12:17:24.914846Z",
     "shell.execute_reply": "2022-12-28T12:17:24.913586Z"
    },
    "papermill": {
     "duration": 1.335182,
     "end_time": "2022-12-28T12:17:24.917775",
     "exception": false,
     "start_time": "2022-12-28T12:17:23.582593",
     "status": "completed"
    },
    "tags": []
   },
   "outputs": [],
   "source": [
    "from sklearn.model_selection import train_test_split\n",
    "X_train,X_test,y_train,y_test=train_test_split(X,y,test_size=0.2,random_state=0)"
   ]
  },
  {
   "cell_type": "markdown",
   "id": "43eb8a80",
   "metadata": {
    "papermill": {
     "duration": 0.009652,
     "end_time": "2022-12-28T12:17:24.937420",
     "exception": false,
     "start_time": "2022-12-28T12:17:24.927768",
     "status": "completed"
    },
    "tags": []
   },
   "source": [
    "The X_train and y_train are defined as input and output patterns for training respectively whereas the X_test and y_test are defined as input and output patterns for testing respectively. The model will be trained using the training pattern, tested using the X_test and the prediction results will be compared with y_test, the original class labels. \n",
    "\n",
    "Lets's check the shape of training and test data."
   ]
  },
  {
   "cell_type": "code",
   "execution_count": 14,
   "id": "2fc3b310",
   "metadata": {
    "execution": {
     "iopub.execute_input": "2022-12-28T12:17:24.959304Z",
     "iopub.status.busy": "2022-12-28T12:17:24.958821Z",
     "iopub.status.idle": "2022-12-28T12:17:24.966957Z",
     "shell.execute_reply": "2022-12-28T12:17:24.965721Z"
    },
    "papermill": {
     "duration": 0.022041,
     "end_time": "2022-12-28T12:17:24.969521",
     "exception": false,
     "start_time": "2022-12-28T12:17:24.947480",
     "status": "completed"
    },
    "tags": []
   },
   "outputs": [
    {
     "data": {
      "text/plain": [
       "((614, 8), (154, 8))"
      ]
     },
     "execution_count": 14,
     "metadata": {},
     "output_type": "execute_result"
    }
   ],
   "source": [
    "X_train.shape,X_test.shape"
   ]
  },
  {
   "cell_type": "code",
   "execution_count": 15,
   "id": "864a4738",
   "metadata": {
    "execution": {
     "iopub.execute_input": "2022-12-28T12:17:24.991148Z",
     "iopub.status.busy": "2022-12-28T12:17:24.990667Z",
     "iopub.status.idle": "2022-12-28T12:17:25.004533Z",
     "shell.execute_reply": "2022-12-28T12:17:25.003003Z"
    },
    "papermill": {
     "duration": 0.027861,
     "end_time": "2022-12-28T12:17:25.007090",
     "exception": false,
     "start_time": "2022-12-28T12:17:24.979229",
     "status": "completed"
    },
    "tags": []
   },
   "outputs": [
    {
     "name": "stdout",
     "output_type": "stream",
     "text": [
      "     Pregnancies  Glucose  BloodPressure  SkinThickness  Insulin   BMI  \\\n",
      "603            7      150             78             29      126  35.2   \n",
      "118            4       97             60             23        0  28.2   \n",
      "247            0      165             90             33      680  52.3   \n",
      "157            1      109             56             21      135  25.2   \n",
      "468            8      120              0              0        0  30.0   \n",
      "..           ...      ...            ...            ...      ...   ...   \n",
      "763           10      101             76             48      180  32.9   \n",
      "192            7      159             66              0        0  30.4   \n",
      "629            4       94             65             22        0  24.7   \n",
      "559           11       85             74              0        0  30.1   \n",
      "684            5      136             82              0        0   0.0   \n",
      "\n",
      "     DiabetesPedigreeFunction  Age  \n",
      "603                     0.692   54  \n",
      "118                     0.443   22  \n",
      "247                     0.427   23  \n",
      "157                     0.833   23  \n",
      "468                     0.183   38  \n",
      "..                        ...  ...  \n",
      "763                     0.171   63  \n",
      "192                     0.383   36  \n",
      "629                     0.148   21  \n",
      "559                     0.300   35  \n",
      "684                     0.640   69  \n",
      "\n",
      "[614 rows x 8 columns]\n"
     ]
    }
   ],
   "source": [
    "print(X_train)"
   ]
  },
  {
   "cell_type": "markdown",
   "id": "e61315be",
   "metadata": {
    "papermill": {
     "duration": 0.009344,
     "end_time": "2022-12-28T12:17:25.026738",
     "exception": false,
     "start_time": "2022-12-28T12:17:25.017394",
     "status": "completed"
    },
    "tags": []
   },
   "source": [
    "As there are values of some features which are higher than others, they will dominate the prediction results and hence need to be scaled. For this purpose, we will scale the training and test input sets. "
   ]
  },
  {
   "cell_type": "code",
   "execution_count": 16,
   "id": "c195fa6c",
   "metadata": {
    "execution": {
     "iopub.execute_input": "2022-12-28T12:17:25.049039Z",
     "iopub.status.busy": "2022-12-28T12:17:25.048547Z",
     "iopub.status.idle": "2022-12-28T12:17:25.062076Z",
     "shell.execute_reply": "2022-12-28T12:17:25.061006Z"
    },
    "papermill": {
     "duration": 0.027957,
     "end_time": "2022-12-28T12:17:25.064617",
     "exception": false,
     "start_time": "2022-12-28T12:17:25.036660",
     "status": "completed"
    },
    "tags": []
   },
   "outputs": [],
   "source": [
    "from sklearn.preprocessing import StandardScaler\n",
    "s=StandardScaler()\n",
    "X_train=s.fit_transform(X_train)\n",
    "X_test=s.transform(X_test)"
   ]
  },
  {
   "cell_type": "code",
   "execution_count": 17,
   "id": "04824835",
   "metadata": {
    "execution": {
     "iopub.execute_input": "2022-12-28T12:17:25.087087Z",
     "iopub.status.busy": "2022-12-28T12:17:25.086593Z",
     "iopub.status.idle": "2022-12-28T12:17:25.093479Z",
     "shell.execute_reply": "2022-12-28T12:17:25.092251Z"
    },
    "papermill": {
     "duration": 0.02113,
     "end_time": "2022-12-28T12:17:25.095984",
     "exception": false,
     "start_time": "2022-12-28T12:17:25.074854",
     "status": "completed"
    },
    "tags": []
   },
   "outputs": [
    {
     "name": "stdout",
     "output_type": "stream",
     "text": [
      "[[ 0.90832902  0.91569367  0.44912368 ...  0.37852648  0.67740401\n",
      "   1.69955804]\n",
      " [ 0.03644676 -0.75182191 -0.47230103 ... -0.50667229 -0.07049698\n",
      "  -0.96569189]\n",
      " [-1.12606292  1.38763205  1.06340683 ...  2.54094063 -0.11855487\n",
      "  -0.88240283]\n",
      " ...\n",
      " [ 0.03644676 -0.84620959 -0.21634972 ... -0.94927168 -0.95656442\n",
      "  -1.04898095]\n",
      " [ 2.0708387  -1.12937261  0.24436264 ... -0.26640405 -0.50001442\n",
      "   0.11706589]\n",
      " [ 0.32707418  0.47521786  0.65388473 ... -4.07275877  0.52121586\n",
      "   2.94889395]]\n"
     ]
    }
   ],
   "source": [
    "print(X_train)"
   ]
  },
  {
   "cell_type": "markdown",
   "id": "009cc0aa",
   "metadata": {
    "papermill": {
     "duration": 0.009642,
     "end_time": "2022-12-28T12:17:25.115503",
     "exception": false,
     "start_time": "2022-12-28T12:17:25.105861",
     "status": "completed"
    },
    "tags": []
   },
   "source": [
    "**Step 3: Defining and training the SVM model**\n",
    "In this step, we will define the support vector machine model for classification using the radial function (RBF) as the kernel function."
   ]
  },
  {
   "cell_type": "code",
   "execution_count": 18,
   "id": "dcb636cf",
   "metadata": {
    "execution": {
     "iopub.execute_input": "2022-12-28T12:17:25.137812Z",
     "iopub.status.busy": "2022-12-28T12:17:25.137303Z",
     "iopub.status.idle": "2022-12-28T12:17:25.226873Z",
     "shell.execute_reply": "2022-12-28T12:17:25.225428Z"
    },
    "papermill": {
     "duration": 0.10491,
     "end_time": "2022-12-28T12:17:25.230306",
     "exception": false,
     "start_time": "2022-12-28T12:17:25.125396",
     "status": "completed"
    },
    "tags": []
   },
   "outputs": [],
   "source": [
    "# Defining the SVM classification model\n",
    "from sklearn.svm import SVC\n",
    "SVM_classifier = SVC(kernel = 'linear', random_state = 0)"
   ]
  },
  {
   "cell_type": "code",
   "execution_count": 29,
   "id": "7d07b536",
   "metadata": {},
   "outputs": [],
   "source": [
    "from sklearn.svm import SVR"
   ]
  },
  {
   "cell_type": "code",
   "execution_count": 19,
   "id": "355986f8",
   "metadata": {
    "execution": {
     "iopub.execute_input": "2022-12-28T12:17:25.253027Z",
     "iopub.status.busy": "2022-12-28T12:17:25.252524Z",
     "iopub.status.idle": "2022-12-28T12:17:25.282922Z",
     "shell.execute_reply": "2022-12-28T12:17:25.281546Z"
    },
    "papermill": {
     "duration": 0.045405,
     "end_time": "2022-12-28T12:17:25.285924",
     "exception": false,
     "start_time": "2022-12-28T12:17:25.240519",
     "status": "completed"
    },
    "tags": []
   },
   "outputs": [
    {
     "data": {
      "text/plain": [
       "SVC(kernel='linear', random_state=0)"
      ]
     },
     "execution_count": 19,
     "metadata": {},
     "output_type": "execute_result"
    }
   ],
   "source": [
    "# Training the SVM classifier\n",
    "SVM_classifier.fit(X_train, y_train)"
   ]
  },
  {
   "cell_type": "code",
   "execution_count": 20,
   "id": "ecd62bd0",
   "metadata": {
    "execution": {
     "iopub.execute_input": "2022-12-28T12:17:25.308856Z",
     "iopub.status.busy": "2022-12-28T12:17:25.308305Z",
     "iopub.status.idle": "2022-12-28T12:17:25.315829Z",
     "shell.execute_reply": "2022-12-28T12:17:25.314546Z"
    },
    "papermill": {
     "duration": 0.022086,
     "end_time": "2022-12-28T12:17:25.318697",
     "exception": false,
     "start_time": "2022-12-28T12:17:25.296611",
     "status": "completed"
    },
    "tags": []
   },
   "outputs": [],
   "source": [
    "# Making predictions with the test data\n",
    "y_pred = SVM_classifier.predict(X_test)"
   ]
  },
  {
   "cell_type": "markdown",
   "id": "b5f43469",
   "metadata": {
    "papermill": {
     "duration": 0.010024,
     "end_time": "2022-12-28T12:17:25.338800",
     "exception": false,
     "start_time": "2022-12-28T12:17:25.328776",
     "status": "completed"
    },
    "tags": []
   },
   "source": [
    "saving the results in a csv dataset"
   ]
  },
  {
   "cell_type": "code",
   "execution_count": 21,
   "id": "c8b0153d",
   "metadata": {
    "execution": {
     "iopub.execute_input": "2022-12-28T12:17:25.361301Z",
     "iopub.status.busy": "2022-12-28T12:17:25.360821Z",
     "iopub.status.idle": "2022-12-28T12:17:25.373664Z",
     "shell.execute_reply": "2022-12-28T12:17:25.372058Z"
    },
    "papermill": {
     "duration": 0.027405,
     "end_time": "2022-12-28T12:17:25.376516",
     "exception": false,
     "start_time": "2022-12-28T12:17:25.349111",
     "status": "completed"
    },
    "tags": []
   },
   "outputs": [
    {
     "name": "stdout",
     "output_type": "stream",
     "text": [
      "Saved!\n"
     ]
    }
   ],
   "source": [
    "# Combining the predicted and actual values\n",
    "output=pd.DataFrame(data={'Predicted Labels': y_pred, 'Actual Labels': y_test})\n",
    "output.to_csv(\"output.csv\")\n",
    "print(\"Saved!\")"
   ]
  },
  {
   "cell_type": "markdown",
   "id": "1bc660e5",
   "metadata": {
    "papermill": {
     "duration": 0.009694,
     "end_time": "2022-12-28T12:17:25.396454",
     "exception": false,
     "start_time": "2022-12-28T12:17:25.386760",
     "status": "completed"
    },
    "tags": []
   },
   "source": [
    "printing a confusion matrix to understand our final results"
   ]
  },
  {
   "cell_type": "code",
   "execution_count": 22,
   "id": "bb19d31d",
   "metadata": {
    "execution": {
     "iopub.execute_input": "2022-12-28T12:17:25.418230Z",
     "iopub.status.busy": "2022-12-28T12:17:25.417724Z",
     "iopub.status.idle": "2022-12-28T12:17:25.428019Z",
     "shell.execute_reply": "2022-12-28T12:17:25.426560Z"
    },
    "papermill": {
     "duration": 0.026347,
     "end_time": "2022-12-28T12:17:25.432693",
     "exception": false,
     "start_time": "2022-12-28T12:17:25.406346",
     "status": "completed"
    },
    "tags": []
   },
   "outputs": [
    {
     "name": "stdout",
     "output_type": "stream",
     "text": [
      "[[98  9]\n",
      " [18 29]]\n"
     ]
    }
   ],
   "source": [
    "# Confusion matrix\n",
    "from sklearn.metrics import confusion_matrix\n",
    "print(confusion_matrix(y_test, y_pred))"
   ]
  },
  {
   "cell_type": "markdown",
   "id": "d50aa3b0",
   "metadata": {
    "papermill": {
     "duration": 0.010097,
     "end_time": "2022-12-28T12:17:25.454372",
     "exception": false,
     "start_time": "2022-12-28T12:17:25.444275",
     "status": "completed"
    },
    "tags": []
   },
   "source": [
    "printing our final accuracy"
   ]
  },
  {
   "cell_type": "code",
   "execution_count": 23,
   "id": "e5d8cd31",
   "metadata": {
    "execution": {
     "iopub.execute_input": "2022-12-28T12:17:25.478774Z",
     "iopub.status.busy": "2022-12-28T12:17:25.477768Z",
     "iopub.status.idle": "2022-12-28T12:17:25.486113Z",
     "shell.execute_reply": "2022-12-28T12:17:25.484910Z"
    },
    "papermill": {
     "duration": 0.023237,
     "end_time": "2022-12-28T12:17:25.488450",
     "exception": false,
     "start_time": "2022-12-28T12:17:25.465213",
     "status": "completed"
    },
    "tags": []
   },
   "outputs": [
    {
     "data": {
      "text/plain": [
       "0.8246753246753247"
      ]
     },
     "execution_count": 23,
     "metadata": {},
     "output_type": "execute_result"
    }
   ],
   "source": [
    "# Accuracy score\n",
    "from sklearn.metrics import accuracy_score\n",
    "accuracy_score(y_test, y_pred)"
   ]
  },
  {
   "cell_type": "markdown",
   "id": "c548e2ea",
   "metadata": {
    "papermill": {
     "duration": 0.010504,
     "end_time": "2022-12-28T12:17:25.509307",
     "exception": false,
     "start_time": "2022-12-28T12:17:25.498803",
     "status": "completed"
    },
    "tags": []
   },
   "source": [
    "Finally, let's obtain the classification report for analyzing the performance of the classification model."
   ]
  },
  {
   "cell_type": "code",
   "execution_count": 24,
   "id": "ec340d35",
   "metadata": {
    "execution": {
     "iopub.execute_input": "2022-12-28T12:17:25.532901Z",
     "iopub.status.busy": "2022-12-28T12:17:25.532366Z",
     "iopub.status.idle": "2022-12-28T12:17:25.544900Z",
     "shell.execute_reply": "2022-12-28T12:17:25.543466Z"
    },
    "papermill": {
     "duration": 0.029235,
     "end_time": "2022-12-28T12:17:25.549220",
     "exception": false,
     "start_time": "2022-12-28T12:17:25.519985",
     "status": "completed"
    },
    "tags": []
   },
   "outputs": [
    {
     "name": "stdout",
     "output_type": "stream",
     "text": [
      "              precision    recall  f1-score   support\n",
      "\n",
      "           0       0.84      0.92      0.88       107\n",
      "           1       0.76      0.62      0.68        47\n",
      "\n",
      "    accuracy                           0.82       154\n",
      "   macro avg       0.80      0.77      0.78       154\n",
      "weighted avg       0.82      0.82      0.82       154\n",
      "\n"
     ]
    }
   ],
   "source": [
    "# Classification report\n",
    "from sklearn.metrics import classification_report\n",
    "print(classification_report(y_test, y_pred))"
   ]
  },
  {
   "cell_type": "markdown",
   "id": "7652c4e7",
   "metadata": {
    "papermill": {
     "duration": 0.009999,
     "end_time": "2022-12-28T12:17:25.570260",
     "exception": false,
     "start_time": "2022-12-28T12:17:25.560261",
     "status": "completed"
    },
    "tags": []
   },
   "source": [
    "Hence we have successfully used SVM for a diabetes dataset"
   ]
  },
  {
   "cell_type": "code",
   "execution_count": null,
   "id": "9491e28a",
   "metadata": {
    "papermill": {
     "duration": 0.009761,
     "end_time": "2022-12-28T12:17:25.590260",
     "exception": false,
     "start_time": "2022-12-28T12:17:25.580499",
     "status": "completed"
    },
    "tags": []
   },
   "outputs": [],
   "source": []
  },
  {
   "cell_type": "code",
   "execution_count": null,
   "id": "7259d3bc",
   "metadata": {},
   "outputs": [],
   "source": []
  }
 ],
 "metadata": {
  "kernelspec": {
   "display_name": "Python 3 (ipykernel)",
   "language": "python",
   "name": "python3"
  },
  "language_info": {
   "codemirror_mode": {
    "name": "ipython",
    "version": 3
   },
   "file_extension": ".py",
   "mimetype": "text/x-python",
   "name": "python",
   "nbconvert_exporter": "python",
   "pygments_lexer": "ipython3",
   "version": "3.9.7"
  },
  "papermill": {
   "default_parameters": {},
   "duration": 13.507937,
   "end_time": "2022-12-28T12:17:26.627470",
   "environment_variables": {},
   "exception": null,
   "input_path": "__notebook__.ipynb",
   "output_path": "__notebook__.ipynb",
   "parameters": {},
   "start_time": "2022-12-28T12:17:13.119533",
   "version": "2.3.4"
  }
 },
 "nbformat": 4,
 "nbformat_minor": 5
}
